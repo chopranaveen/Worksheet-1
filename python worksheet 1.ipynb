{
 "cells": [
  {
   "cell_type": "code",
   "execution_count": null,
   "id": "5b51cc65",
   "metadata": {},
   "outputs": [],
   "source": [
    "#  Q11.Write a program to find factorial NO. ?"
   ]
  },
  {
   "cell_type": "code",
   "execution_count": null,
   "id": "e810cb72",
   "metadata": {},
   "outputs": [],
   "source": [
    "import math"
   ]
  },
  {
   "cell_type": "code",
   "execution_count": null,
   "id": "de9ffe7b",
   "metadata": {},
   "outputs": [],
   "source": [
    "n=5"
   ]
  },
  {
   "cell_type": "code",
   "execution_count": null,
   "id": "53197e65",
   "metadata": {},
   "outputs": [],
   "source": [
    "print(math.factorial(n))"
   ]
  },
  {
   "cell_type": "code",
   "execution_count": null,
   "id": "f542862b",
   "metadata": {},
   "outputs": [],
   "source": [
    "# Q12. Write a program in python to find a number wheather a prime or composite ?"
   ]
  },
  {
   "cell_type": "code",
   "execution_count": null,
   "id": "27fd1a84",
   "metadata": {},
   "outputs": [],
   "source": [
    "num = int(input(\"Enter any number :\"))\n",
    "\n",
    "count=0\n",
    "i=1\n",
    "while i<=num:\n",
    "    if num%i==0:\n",
    "        count=count+1\n",
    "    i=i+1\n",
    "    \n",
    "if count==2:\n",
    "    print(\"a prime no.\")\n",
    "elif count>2:\n",
    "    print(\"a composite no.\")\n",
    "else:    \n",
    "    print(\"number is neither prime nor composite\")"
   ]
  },
  {
   "cell_type": "code",
   "execution_count": null,
   "id": "34ac28d9",
   "metadata": {},
   "outputs": [],
   "source": [
    "#13 Write a python program to check whether a given string is palindrome or not?"
   ]
  },
  {
   "cell_type": "code",
   "execution_count": null,
   "id": "1727500e",
   "metadata": {},
   "outputs": [],
   "source": [
    "a=input(\"enter string:\")\n",
    "b=a[-1::-1]\n",
    "if (a==b):\n",
    "    print(\"Palindrome\")\n",
    "else:\n",
    "    print(\"Not Palindrome\")"
   ]
  },
  {
   "cell_type": "code",
   "execution_count": null,
   "id": "43169d4f",
   "metadata": {},
   "outputs": [],
   "source": []
  },
  {
   "cell_type": "code",
   "execution_count": null,
   "id": "a430a212",
   "metadata": {},
   "outputs": [],
   "source": []
  }
 ],
 "metadata": {
  "kernelspec": {
   "display_name": "Python 3 (ipykernel)",
   "language": "python",
   "name": "python3"
  },
  "language_info": {
   "codemirror_mode": {
    "name": "ipython",
    "version": 3
   },
   "file_extension": ".py",
   "mimetype": "text/x-python",
   "name": "python",
   "nbconvert_exporter": "python",
   "pygments_lexer": "ipython3",
   "version": "3.9.12"
  }
 },
 "nbformat": 4,
 "nbformat_minor": 5
}
